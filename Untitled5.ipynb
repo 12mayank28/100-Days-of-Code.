{
  "nbformat": 4,
  "nbformat_minor": 0,
  "metadata": {
    "colab": {
      "provenance": [],
      "authorship_tag": "ABX9TyP7rf4eGeYWVbr7xcUcIcSH",
      "include_colab_link": true
    },
    "kernelspec": {
      "name": "python3",
      "display_name": "Python 3"
    },
    "language_info": {
      "name": "python"
    }
  },
  "cells": [
    {
      "cell_type": "markdown",
      "metadata": {
        "id": "view-in-github",
        "colab_type": "text"
      },
      "source": [
        "<a href=\"https://colab.research.google.com/github/asad755/100-days-of-code-youtube/blob/main/Untitled5.ipynb\" target=\"_parent\"><img src=\"https://colab.research.google.com/assets/colab-badge.svg\" alt=\"Open In Colab\"/></a>"
      ]
    },
    {
      "cell_type": "code",
      "execution_count": 3,
      "metadata": {
        "colab": {
          "base_uri": "https://localhost:8080/"
        },
        "id": "WNAmyHI8gOS-",
        "outputId": "583d2d17-0dce-4b3a-f2dd-b25185bd32e4"
      },
      "outputs": [
        {
          "output_type": "stream",
          "name": "stdout",
          "text": [
            "Writing test.py\n"
          ]
        }
      ],
      "source": [
        "%%writefile test.py\n",
        "print(\"as salamoelkom\")\n",
        "a = 10\n",
        "print(a)"
      ]
    },
    {
      "cell_type": "code",
      "source": [
        "!python /content/test.py"
      ],
      "metadata": {
        "colab": {
          "base_uri": "https://localhost:8080/"
        },
        "id": "cvGNFNz3LMBS",
        "outputId": "dcc50027-4aec-4ae5-a2b3-0d269e1527da"
      },
      "execution_count": 4,
      "outputs": [
        {
          "output_type": "stream",
          "name": "stdout",
          "text": [
            "as salamoelkom\n",
            "10\n"
          ]
        }
      ]
    },
    {
      "cell_type": "code",
      "source": [
        "from google.colab import drive\n",
        "drive.mount('/content/drive')"
      ],
      "metadata": {
        "id": "5pzPANvWsYBp"
      },
      "execution_count": null,
      "outputs": []
    },
    {
      "cell_type": "code",
      "source": [
        "python /content/drive/MyDrive/another.py.txt"
      ],
      "metadata": {
        "id": "pgcHXXuzvIPH"
      },
      "execution_count": null,
      "outputs": []
    },
    {
      "cell_type": "code",
      "source": [
        "!pip install subprocess"
      ],
      "metadata": {
        "id": "p1LKqYJIvfCX"
      },
      "execution_count": null,
      "outputs": []
    },
    {
      "cell_type": "code",
      "source": [
        "from google.colab import drive/content/drive/MyDrive/another.py.txt"
      ],
      "metadata": {
        "id": "du6tHMfSv8Bn"
      },
      "execution_count": null,
      "outputs": []
    },
    {
      "cell_type": "code",
      "source": [
        "!python '/content/drive/MyDrive/another.py.txt'"
      ],
      "metadata": {
        "id": "Ix3MSLhvwrGj"
      },
      "execution_count": null,
      "outputs": []
    },
    {
      "cell_type": "code",
      "source": [
        "!pip import subprocess"
      ],
      "metadata": {
        "id": "podeslPQvkm5"
      },
      "execution_count": null,
      "outputs": []
    },
    {
      "cell_type": "code",
      "source": [
        "python /content/drive/MyDrive/another.py.txt"
      ],
      "metadata": {
        "id": "E6LHMCpjuk7c"
      },
      "execution_count": null,
      "outputs": []
    },
    {
      "cell_type": "code",
      "source": [
        "!python /content/test.py"
      ],
      "metadata": {
        "colab": {
          "base_uri": "https://localhost:8080/"
        },
        "id": "KdMqg0GxhTHM",
        "outputId": "b318fcc5-7f36-4aaa-9981-2e4e389f472b"
      },
      "execution_count": null,
      "outputs": [
        {
          "output_type": "stream",
          "name": "stdout",
          "text": [
            "as salamoelkom\n",
            "10\n"
          ]
        }
      ]
    }
  ]
}